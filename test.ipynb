{
 "cells": [
  {
   "cell_type": "code",
   "execution_count": 3,
   "metadata": {},
   "outputs": [
    {
     "data": {
      "text/plain": [
       "{'task': {'name': 'binary-classification',\n",
       "  'metrics': {'train': ['loss', 'accuracy'],\n",
       "   'eval': ['accuracy', 'precision', 'recall', 'f1-score']}},\n",
       " 'data': {'format': 'flow_from_directory',\n",
       "  'source': 'PATH-TO-Rusted-images',\n",
       "  'image_size': 256},\n",
       " 'model': {'module': 'models.classifiers.resnet.BinaryResnet',\n",
       "  'optimizer': {'module': 'torch.optim.Adam',\n",
       "   'lr': '1e-3',\n",
       "   'scheduler': {'module': 'torch.optim.lr_scheduler.ReduceLROnPlateau',\n",
       "    'patience': 5,\n",
       "    'factor': 0.15}}}}"
      ]
     },
     "execution_count": 3,
     "metadata": {},
     "output_type": "execute_result"
    }
   ],
   "source": [
    "from utils.args import YmlParser\n",
    "\n",
    "parser = YmlParser()\n",
    "parser.read(\"task/rusted_classification/config.yml\")"
   ]
  },
  {
   "cell_type": "code",
   "execution_count": null,
   "metadata": {},
   "outputs": [],
   "source": []
  }
 ],
 "metadata": {
  "kernelspec": {
   "display_name": "newtorch",
   "language": "python",
   "name": "python3"
  },
  "language_info": {
   "codemirror_mode": {
    "name": "ipython",
    "version": 3
   },
   "file_extension": ".py",
   "mimetype": "text/x-python",
   "name": "python",
   "nbconvert_exporter": "python",
   "pygments_lexer": "ipython3",
   "version": "3.10.9"
  },
  "orig_nbformat": 4,
  "vscode": {
   "interpreter": {
    "hash": "53f9258279025e0133688f8ee1ab0bc310a96476438766efd6b4a1463615bbdd"
   }
  }
 },
 "nbformat": 4,
 "nbformat_minor": 2
}
