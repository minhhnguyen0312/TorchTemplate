{
 "cells": [
  {
   "cell_type": "code",
   "execution_count": 1,
   "metadata": {},
   "outputs": [
    {
     "name": "stderr",
     "output_type": "stream",
     "text": [
      "/home/mluser_intern2/miniconda3/envs/ldm/lib/python3.8/site-packages/tqdm/auto.py:22: TqdmWarning: IProgress not found. Please update jupyter and ipywidgets. See https://ipywidgets.readthedocs.io/en/stable/user_install.html\n",
      "  from .autonotebook import tqdm as notebook_tqdm\n"
     ]
    }
   ],
   "source": [
    "from train import TrainerYml as Trainer\n",
    "import matplotlib.pyplot as plt\n",
    "t = Trainer(\"task/styleGAN/config.yml\")\n",
    "# t.fit()"
   ]
  },
  {
   "cell_type": "code",
   "execution_count": 2,
   "metadata": {},
   "outputs": [
    {
     "name": "stderr",
     "output_type": "stream",
     "text": [
      "Training 0::   0%|          | 0/3750 [00:03<?, ?it/s]\n"
     ]
    },
    {
     "ename": "UnboundLocalError",
     "evalue": "local variable 'real_loss' referenced before assignment",
     "output_type": "error",
     "traceback": [
      "\u001b[0;31m---------------------------------------------------------------------------\u001b[0m",
      "\u001b[0;31mUnboundLocalError\u001b[0m                         Traceback (most recent call last)",
      "Cell \u001b[0;32mIn[2], line 1\u001b[0m\n\u001b[0;32m----> 1\u001b[0m \u001b[43mt\u001b[49m\u001b[38;5;241;43m.\u001b[39;49m\u001b[43mfit\u001b[49m\u001b[43m(\u001b[49m\u001b[43m)\u001b[49m\n",
      "File \u001b[0;32m~/PythonCodes/TorchTemplate/train.py:22\u001b[0m, in \u001b[0;36mBaseTrainer.fit\u001b[0;34m(self, num_epochs, train_steps, train_on_steps)\u001b[0m\n\u001b[1;32m     20\u001b[0m \u001b[39mif\u001b[39;00m \u001b[39mnot\u001b[39;00m train_on_steps:\n\u001b[1;32m     21\u001b[0m     \u001b[39mfor\u001b[39;00m i \u001b[39min\u001b[39;00m \u001b[39mrange\u001b[39m(num_epochs):\n\u001b[0;32m---> 22\u001b[0m         \u001b[39mself\u001b[39;49m\u001b[39m.\u001b[39;49mmodel\u001b[39m.\u001b[39;49mtrain_one_epoch(\u001b[39mself\u001b[39;49m\u001b[39m.\u001b[39;49mtrn_data, i)\n\u001b[1;32m     23\u001b[0m         \u001b[39mself\u001b[39m\u001b[39m.\u001b[39mmodel\u001b[39m.\u001b[39meval_one_epoch(\u001b[39mself\u001b[39m\u001b[39m.\u001b[39mval_data, i)\n\u001b[1;32m     24\u001b[0m \u001b[39melse\u001b[39;00m:\n",
      "File \u001b[0;32m~/PythonCodes/TorchTemplate/models/model.py:37\u001b[0m, in \u001b[0;36mBaseModel.train_one_epoch\u001b[0;34m(self, data, epoch)\u001b[0m\n\u001b[1;32m     35\u001b[0m t\u001b[39m.\u001b[39mset_description(\u001b[39mf\u001b[39m\u001b[39m\"\u001b[39m\u001b[39mTraining \u001b[39m\u001b[39m{\u001b[39;00mepoch\u001b[39m}\u001b[39;00m\u001b[39m:\u001b[39m\u001b[39m\"\u001b[39m)\n\u001b[1;32m     36\u001b[0m \u001b[39mfor\u001b[39;00m i, batch \u001b[39min\u001b[39;00m \u001b[39menumerate\u001b[39m(t):\n\u001b[0;32m---> 37\u001b[0m     outputs \u001b[39m=\u001b[39m \u001b[39mself\u001b[39;49m\u001b[39m.\u001b[39;49mtrain_step(batch, i)\n\u001b[1;32m     38\u001b[0m     \u001b[39mif\u001b[39;00m \u001b[39mself\u001b[39m\u001b[39m.\u001b[39mconfig[\u001b[39m'\u001b[39m\u001b[39mlog\u001b[39m\u001b[39m'\u001b[39m]:\n\u001b[1;32m     39\u001b[0m         \u001b[39mself\u001b[39m\u001b[39m.\u001b[39mwriter\u001b[39m.\u001b[39mupdate(outputs, isval\u001b[39m=\u001b[39m\u001b[39mFalse\u001b[39;00m)\n",
      "File \u001b[0;32m~/PythonCodes/TorchTemplate/models/gans/model.py:62\u001b[0m, in \u001b[0;36mBaseGAN.train_step\u001b[0;34m(self, batch, step)\u001b[0m\n\u001b[1;32m     61\u001b[0m \u001b[39mdef\u001b[39;00m \u001b[39mtrain_step\u001b[39m(\u001b[39mself\u001b[39m, batch, step):\n\u001b[0;32m---> 62\u001b[0m     disc_loss \u001b[39m=\u001b[39m \u001b[39mself\u001b[39;49m\u001b[39m.\u001b[39;49mtrain_disc_step(batch)\n\u001b[1;32m     63\u001b[0m     gen_loss \u001b[39m=\u001b[39m \u001b[39mself\u001b[39m\u001b[39m.\u001b[39mtrain_gen_step(batch)\n\u001b[1;32m     64\u001b[0m     \u001b[39mreturn\u001b[39;00m {\n\u001b[1;32m     65\u001b[0m         \u001b[39m\"\u001b[39m\u001b[39mdisc_loss\u001b[39m\u001b[39m\"\u001b[39m: disc_loss,\n\u001b[1;32m     66\u001b[0m         \u001b[39m\"\u001b[39m\u001b[39mgen_loss\u001b[39m\u001b[39m\"\u001b[39m: gen_loss\n\u001b[1;32m     67\u001b[0m     }\n",
      "File \u001b[0;32m~/PythonCodes/TorchTemplate/models/gans/model.py:82\u001b[0m, in \u001b[0;36mBaseGAN.train_disc_step\u001b[0;34m(self, batch)\u001b[0m\n\u001b[1;32m     80\u001b[0m \u001b[39m# real_loss = self.get_disc_loss(real, real_label)\u001b[39;00m\n\u001b[1;32m     81\u001b[0m fake_loss \u001b[39m=\u001b[39m \u001b[39mself\u001b[39m\u001b[39m.\u001b[39mget_disc_loss(fake, fake_label)\n\u001b[0;32m---> 82\u001b[0m real_loss \u001b[39m=\u001b[39m real_loss\n\u001b[1;32m     83\u001b[0m total_loss \u001b[39m=\u001b[39m (real_loss \u001b[39m+\u001b[39m fake_loss) \u001b[39m/\u001b[39m \u001b[39m2\u001b[39m\n\u001b[1;32m     85\u001b[0m total_loss\u001b[39m.\u001b[39mbackward()\n",
      "\u001b[0;31mUnboundLocalError\u001b[0m: local variable 'real_loss' referenced before assignment"
     ]
    }
   ],
   "source": [
    "t.fit()"
   ]
  },
  {
   "cell_type": "code",
   "execution_count": 50,
   "metadata": {},
   "outputs": [
    {
     "data": {
      "text/plain": [
       "<matplotlib.image.AxesImage at 0x7f9c022fd8e0>"
      ]
     },
     "execution_count": 50,
     "metadata": {},
     "output_type": "execute_result"
    },
    {
     "data": {
      "image/png": "[encoded data removed]",
      "text/plain": [
       "<Figure size 432x288 with 1 Axes>"
      ]
     },
     "metadata": {
      "needs_background": "light"
     },
     "output_type": "display_data"
    }
   ],
   "source": [
    "img = t.model.sample(n_sample=1)\n",
    "plt.imshow(img[0, :, :, :].detach().numpy().transpose(1, 2, 0))"
   ]
  },
  {
   "cell_type": "code",
   "execution_count": 43,
   "metadata": {},
   "outputs": [
    {
     "ename": "NameError",
     "evalue": "name 'z' is not defined",
     "output_type": "error",
     "traceback": [
      "\u001b[0;31m---------------------------------------------------------------------------\u001b[0m",
      "\u001b[0;31mNameError\u001b[0m                                 Traceback (most recent call last)",
      "\u001b[0;32m/var/folders/0r/sf6g7ytn1gd7ngjdqrkv0cnh0000gn/T/ipykernel_29160/1705769632.py\u001b[0m in \u001b[0;36m<module>\u001b[0;34m\u001b[0m\n\u001b[0;32m----> 1\u001b[0;31m \u001b[0mz\u001b[0m\u001b[0;34m\u001b[0m\u001b[0;34m\u001b[0m\u001b[0m\n\u001b[0m",
      "\u001b[0;31mNameError\u001b[0m: name 'z' is not defined"
     ]
    }
   ],
   "source": [
    "z"
   ]
  },
  {
   "cell_type": "code",
   "execution_count": 10,
   "metadata": {},
   "outputs": [
    {
     "name": "stdout",
     "output_type": "stream",
     "text": [
      "1\n",
      "-1\n",
      "Hello\n",
      "Hello world\n"
     ]
    }
   ],
   "source": [
    "import torch\n",
    "\n",
    "from contextlib import contextmanager\n",
    "class foo(object):\n",
    "    def __init__(self):\n",
    "        self.val = 1\n",
    "    \n",
    "    @contextmanager\n",
    "    def foo(self):\n",
    "        try:\n",
    "            print(self.val)\n",
    "            yield(-1)\n",
    "        finally:\n",
    "            print(\"Hello world\")\n",
    "t = foo()\n",
    "with t.foo() as f:\n",
    "    print(f)\n",
    "    print(\"Hello\")"
   ]
  },
  {
   "cell_type": "code",
   "execution_count": null,
   "metadata": {},
   "outputs": [],
   "source": []
  }
 ],
 "metadata": {
  "kernelspec": {
   "display_name": "Python 3.8.5 ('ldm')",
   "language": "python",
   "name": "python3"
  },
  "language_info": {
   "codemirror_mode": {
    "name": "ipython",
    "version": 3
   },
   "file_extension": ".py",
   "mimetype": "text/x-python",
   "name": "python",
   "nbconvert_exporter": "python",
   "pygments_lexer": "ipython3",
   "version": "3.8.5"
  },
  "orig_nbformat": 4,
  "vscode": {
   "interpreter": {
    "hash": "1f11b5c073c17bbcd868ab550d725548d10060e41a2fa0fdc8f7ec7d5b752db8"
   }
  }
 },
 "nbformat": 4,
 "nbformat_minor": 2
}
